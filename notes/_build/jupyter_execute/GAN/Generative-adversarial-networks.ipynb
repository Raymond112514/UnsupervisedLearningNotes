{
 "cells": [
  {
   "cell_type": "markdown",
   "id": "192ac3bb",
   "metadata": {},
   "source": [
    "# Generative adversarial networks"
   ]
  },
  {
   "cell_type": "markdown",
   "id": "6de4d9ca",
   "metadata": {},
   "source": [
    "The idea of generative adversarial network is initially proposed by Ian Goodfellow in 2015. "
   ]
  }
 ],
 "metadata": {
  "kernelspec": {
   "display_name": "Python 3 (ipykernel)",
   "language": "python",
   "name": "python3"
  },
  "language_info": {
   "codemirror_mode": {
    "name": "ipython",
    "version": 3
   },
   "file_extension": ".py",
   "mimetype": "text/x-python",
   "name": "python",
   "nbconvert_exporter": "python",
   "pygments_lexer": "ipython3",
   "version": "3.10.9"
  }
 },
 "nbformat": 4,
 "nbformat_minor": 5
}