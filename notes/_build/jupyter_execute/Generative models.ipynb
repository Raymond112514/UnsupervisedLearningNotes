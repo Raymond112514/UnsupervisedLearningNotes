{
 "cells": [
  {
   "cell_type": "markdown",
   "id": "ba390fc5",
   "metadata": {},
   "source": [
    "Given $\\mathcal{D}=\\{X_i\\}_{i\\in [n]}\\sim p_{\\text{data}}(x)$, we want to learn the underlying data distribution $p_{\\text{data}}(x)$ using the training samples $X_1, X_2,..., X_n$. One way of doing this is to consider a family of parameterized distribution $p_{\\theta}(x)$ and then find the right parameter $\\theta$ such that \n",
    "\n",
    "$$p_{\\theta}(x)\\approx p_{\\text{data}}(x)$$\n",
    "\n",
    "One way of framing this mathematically is to find $\\theta$ that minimizes the KL-divergence between these two distributions\n",
    "\n",
    "$$\\text{KL}(p_{\\text{data}}||p_{\\theta}) = \\mathbb{E}_{p_{\\text{data}}}[-\\log p_{\\theta}(X)] - H(p_{\\text{data}})$$\n",
    "\n",
    "Note that we can drop the entropy term. Using sample average approximation, we have\n",
    "\n",
    "$$\\theta^* = \\underset{\\theta}{\\text{argmin}} \\frac{1}{n}\\sum_{i=1}^n -\\log p_{\\theta}(X_i)\\tag{1}$$\n",
    "\n",
    "Another interpretation of the optimization problem is given by the MLE estimation. We want to maximize the log-probability of likelihood\n",
    "\n",
    "$$\\theta^* = \\underset{\\theta}{\\text{argmax}} p_{\\theta}(X_1, X_2,..., X_n) = \\underset{\\theta}{\\text{argmax}} \\frac{1}{n}\\sum_{i=1}^n \\log p_{\\theta}(X_i)\\tag{2}$$\n",
    "\n",
    "Both formulations give us equivalent optimization problem. Now the question remains how to find a suitable class of parameterization $p_{\\theta}(x)$. "
   ]
  },
  {
   "cell_type": "code",
   "execution_count": null,
   "id": "7395b908",
   "metadata": {},
   "outputs": [],
   "source": []
  }
 ],
 "metadata": {
  "kernelspec": {
   "display_name": "Python 3 (ipykernel)",
   "language": "python",
   "name": "python3"
  },
  "language_info": {
   "codemirror_mode": {
    "name": "ipython",
    "version": 3
   },
   "file_extension": ".py",
   "mimetype": "text/x-python",
   "name": "python",
   "nbconvert_exporter": "python",
   "pygments_lexer": "ipython3",
   "version": "3.10.9"
  }
 },
 "nbformat": 4,
 "nbformat_minor": 5
}