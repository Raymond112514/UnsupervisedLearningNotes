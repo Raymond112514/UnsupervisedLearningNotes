{
 "cells": [
  {
   "cell_type": "markdown",
   "id": "3419797d",
   "metadata": {},
   "source": [
    "# Autoregressive models"
   ]
  },
  {
   "cell_type": "markdown",
   "id": "4347e67d",
   "metadata": {},
   "source": [
    "Assuming that the data $\\mathbf{x}\\in \\mathbb{R}^D$, say $\\mathbf{x}=[x_1, x_2,..., x_D]$, then the parameterized distribution of $\\mathbf{x}$ can be written as $p_{\\theta}(\\mathbf{x})=p_{\\theta}(x_1, x_2,..., x_D)$. Note that if there is a Bayes net structure on the variables, then we can decompose the distribution as\n",
    "\n",
    "$$p_{\\theta}(x_1, x_2,..., x_D) =\\prod_i p(x_i|\\text{Parent}(x_i))$$\n",
    "\n",
    "Where $\\text{Parent}(x_i)$ denote the parent nodes of $x_i$. However, it is not obvious which Bayes net structure one should assume, and therefore the safest option is to consider a fully expressive Bayes net structure. By using the product rule, we have\n",
    "\n",
    "$$\n",
    "\\begin{align*}\n",
    "    p_{\\theta}(x_1, x_2,..., x_D) &= p(x_1)p(x_2|x_1)p(x_3|x_2, x_1)...p(x_D|x_{D-1},...,x_1)\\\\\n",
    "    &= \\prod_i p(x_i|\\mathbf{x}_{<i})\n",
    "\\end{align*}\n",
    "$$\n",
    "\n",
    "Where $x_{<i}$ denote the variables $x_1, x_2,..., x_{i-1}$. Autoregressive models attempt to model each conditional distribution $p(x_i|\\mathbf{x}_{<i})$ jointly. The problem with training the conditions separately is that it is\n",
    "\n",
    "1. Computationally expensive. \n",
    "2. No parameter sharing among different conditionals\n",
    "\n",
    "The model is trained on the log-likelihood:\n",
    "\n",
    "$$\\log p(x) = \\sum_i \\log p(x_i|\\mathbf{x}_{<i})$$\n",
    "\n",
    "In this section, we look at some examples of autoregressive models. "
   ]
  }
 ],
 "metadata": {
  "kernelspec": {
   "display_name": "Python 3 (ipykernel)",
   "language": "python",
   "name": "python3"
  },
  "language_info": {
   "codemirror_mode": {
    "name": "ipython",
    "version": 3
   },
   "file_extension": ".py",
   "mimetype": "text/x-python",
   "name": "python",
   "nbconvert_exporter": "python",
   "pygments_lexer": "ipython3",
   "version": "3.10.9"
  }
 },
 "nbformat": 4,
 "nbformat_minor": 5
}
