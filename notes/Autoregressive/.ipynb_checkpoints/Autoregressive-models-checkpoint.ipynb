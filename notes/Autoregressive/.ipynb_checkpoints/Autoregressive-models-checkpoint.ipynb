{
 "cells": [
  {
   "cell_type": "markdown",
   "id": "3419797d",
   "metadata": {},
   "source": [
    "# Autoregressive models"
   ]
  },
  {
   "cell_type": "markdown",
   "id": "4347e67d",
   "metadata": {},
   "source": [
    "Suppose that the data $\\mathbf{x}=[x_1, x_2,..., x_D]$ lies in $D$ dimensional space. Usually the joint distribution $p(x_1, x_2,..., x_D)$ is too complex to model. For example, if $x_i$ only takes two values, $0$ and $1$, then modeling $p(x_1, x_2, x_3, x_4)$ requires $2^4 = 16$ parameters. However, for binary images of shape $28 \\times 28$, we would need $2^{28^2} \\approx 10^{236}$ parameters! To address this, we can decompose the joint distribution into simpler conditional distributions. In particular, if there is a Bayes net structure on the variables, we can exploit this and decompose the distribution as\n",
    "\n",
    "$$p_{\\theta}(x_1, x_2,..., x_D) =\\prod_i p(x_i|\\text{Parent}(x_i))$$\n",
    "\n",
    "Where $\\text{Parent}(x_i)$ denote the parent nodes of $x_i$. However, it is not obvious which Bayes net structure we should assume, and therefore the safest option is to consider a fully expressive Bayes net. By using the product rule, we have\n",
    "\n",
    "$$\n",
    "\\begin{align*}\n",
    "    p_{\\theta}(x_1, x_2,..., x_D) &= p(x_1)p(x_2|x_1)p(x_3|x_2, x_1)...p(x_D|x_{D-1},...,x_1)\\\\\n",
    "    &= \\prod_i p(x_i|\\mathbf{x}_{<i})\n",
    "\\end{align*}\n",
    "$$\n",
    "\n",
    "Where $x_{<i}$ denote the variables $x_1, x_2,..., x_{i-1}$. In autoregressive models, we attempt to learn the conditional distributions $p(x_i|\\mathbf{x}_{<i})$. One design choice is to parameterize and learn these conditionals separately; however, it is\n",
    "\n",
    "1. Computationally expensive, and\n",
    "2. No parameter sharing among different conditionals\n",
    "\n",
    "Therefore, in practice, we typically model the conditionals jointly. The model is trained by maximizing the usual log-likelihood objective:\n",
    "\n",
    "$$\\log p(x) = \\sum_i \\log p(x_i|\\mathbf{x}_{<i})$$\n",
    "\n",
    "and sampling is done sequentially as follows:\n",
    "\n",
    "$$x_0\\sim p(x_0)\\Longrightarrow x_1\\sim p(x_1|x_0)\\Longrightarrow x_2\\sim p(x_2|x_1, x_0) \\Longrightarrow...\\Longrightarrow p(x_D|x_{D-1}, x_{D-2},..., x_{1})$$"
   ]
  }
 ],
 "metadata": {
  "kernelspec": {
   "display_name": "Python 3 (ipykernel)",
   "language": "python",
   "name": "python3"
  },
  "language_info": {
   "codemirror_mode": {
    "name": "ipython",
    "version": 3
   },
   "file_extension": ".py",
   "mimetype": "text/x-python",
   "name": "python",
   "nbconvert_exporter": "python",
   "pygments_lexer": "ipython3",
   "version": "3.10.9"
  }
 },
 "nbformat": 4,
 "nbformat_minor": 5
}
